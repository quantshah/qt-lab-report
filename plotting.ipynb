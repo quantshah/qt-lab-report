{
 "cells": [
  {
   "cell_type": "code",
   "execution_count": 161,
   "metadata": {},
   "outputs": [],
   "source": [
    "import h5py\n",
    "import numpy as np\n",
    "\n",
    "import matplotlib.pyplot as plt\n",
    "import matplotlib as mpl\n",
    "\n",
    "from matplotlib import transforms\n",
    "\n",
    "from scipy.optimize import curve_fit\n",
    "from scipy import ndimage\n",
    "\n",
    "\n",
    "fig_width_pt = 246.0  # Get this from LaTeX using \\showthe\\columnwidth\n",
    "inches_per_pt = 1.0/72.27               # Convert pt to inch\n",
    "golden_mean = (np.sqrt(5)-1.0)/2.0         # Aesthetic ratio\n",
    "fig_width = fig_width_pt*inches_per_pt  # width in inches\n",
    "fig_height = fig_width*golden_mean      # height in inches\n",
    "fig_size =  [fig_width,fig_height]\n",
    "params = {'backend': 'ps',\n",
    "          'axes.labelsize': 10,\n",
    "          'legend.fontsize': 10,\n",
    "          'xtick.labelsize': 8,\n",
    "          'ytick.labelsize': 8,\n",
    "          'text.usetex': True,\n",
    "          'figure.figsize': fig_size}\n",
    "mpl.rcParams.update(params)"
   ]
  },
  {
   "cell_type": "code",
   "execution_count": 3,
   "metadata": {},
   "outputs": [
    {
     "name": "stdout",
     "output_type": "stream",
     "text": [
      "Keys: <KeysViewHDF5 ['Channels', 'Data', 'Instrument config', 'Instruments', 'Log list', 'Settings', 'Step config', 'Step list', 'Tags', 'Traces', 'Views']>\n",
      "<KeysViewHDF5 ['Time stamp', 'VNA - S21', 'VNA - S21_N', 'VNA - S21_t0dt']>\n"
     ]
    },
    {
     "data": {
      "image/png": "[encoded data removed]",
      "text/plain": [
       "<Figure size 245.081x151.468 with 1 Axes>"
      ]
     },
     "metadata": {
      "needs_background": "light"
     },
     "output_type": "display_data"
    },
    {
     "data": {
      "image/png": "[encoded data removed]",
      "text/plain": [
       "<Figure size 245.081x151.468 with 1 Axes>"
      ]
     },
     "metadata": {
      "needs_background": "light"
     },
     "output_type": "display_data"
    }
   ],
   "source": [
    "filename = \"/Users/shahnawaz/Dropbox/phd/courses/Advanced measurement lab/QT/Group9/2_resonator_calib_vna_narrow_s21.hdf5\"\n",
    "\n",
    "with h5py.File(filename, \"r\") as f:\n",
    "    # List all groups\n",
    "    print(\"Keys: %s\" % f.keys())\n",
    "\n",
    "    # Get the data\n",
    "    raw_data = {}\n",
    "    for key in f.keys():\n",
    "        raw_data[key] = list(f[key])\n",
    "\n",
    "    print(f[\"Traces\"].keys())\n",
    "    arr = np.array(f[\"Traces\"]['VNA - S21'])\n",
    "    arr2 = np.array(f[\"Traces\"]['VNA - S21_t0dt'])\n",
    "\n",
    "\n",
    "f0, dt = arr2.ravel()\n",
    "xvec = [f0]\n",
    "for i in range(len(arr)-1):\n",
    "    xvec.append(xvec[i] + dt)\n",
    "\n",
    "xvec = np.array(xvec)\n",
    "cp = (arr[:, 0] + 1j*arr[:, 1]).ravel()\n",
    "ghz = 1e9\n",
    "\n",
    "ghz = 1e9\n",
    "plt.plot(xvec/ghz, 10*np.log(np.abs(cp)))\n",
    "plt.ylabel(\"VNA S21 (dB)\")\n",
    "plt.xlabel(\"Frequency (GHz)\")\n",
    "plt.savefig(\"plots/fig-1-wide.pdf\", bbox_inches=\"tight\")\n",
    "plt.show()\n",
    "\n",
    "plt.plot(xvec/ghz, 10*np.log(np.abs(cp)))\n",
    "plt.xlim(6.57, 6.573)\n",
    "plt.ylabel(\"VNA S21 (dB)\")\n",
    "plt.xlabel(\"Frequency (GHz)\")\n",
    "plt.savefig(\"plots/fig-1-narrow.pdf\", bbox_inches=\"tight\")\n",
    "plt.show()"
   ]
  },
  {
   "cell_type": "code",
   "execution_count": 113,
   "metadata": {},
   "outputs": [
    {
     "name": "stdout",
     "output_type": "stream",
     "text": [
      "Keys: <KeysViewHDF5 ['Channels', 'Data', 'Instrument config', 'Instruments', 'Log list', 'Settings', 'Step config', 'Step list', 'Tags', 'Traces', 'Views']>\n",
      "<KeysViewHDF5 ['Time stamp', 'VNA - S21', 'VNA - S21_N', 'VNA - S21_t0dt']>\n",
      "<KeysViewHDF5 ['Channel names', 'Data', 'Time stamp']>\n"
     ]
    }
   ],
   "source": [
    "filename = \"/Users/shahnawaz/Dropbox/phd/courses/Advanced measurement lab/QT/Group9/3_resonator_calib_powersweep_2.hdf5\"\n",
    "\n",
    "\n",
    "with h5py.File(filename, \"r\") as f:\n",
    "    print(\"Keys: %s\" % f.keys())\n",
    "    print(f[\"Traces\"].keys())\n",
    "    print(f[\"Data\"].keys())\n",
    "    arr = np.array(f[\"Traces\"]['VNA - S21'])\n",
    "    arr2 = np.array(f[\"Traces\"]['VNA - S21_t0dt'])\n",
    "\n",
    "f0, dt = arr2.ravel()\n",
    "xvec = [f0]\n",
    "\n",
    "\n",
    "for i in range(len(arr)-1):\n",
    "    xvec.append(xvec[i] + dt)\n",
    "\n",
    "\n",
    "xvec = np.array(xvec)\n",
    "cp = (arr[:, 0] + 1j*arr[:, 1]).ravel()\n",
    "ghz = 1e9"
   ]
  },
  {
   "cell_type": "code",
   "execution_count": null,
   "metadata": {},
   "outputs": [],
   "source": []
  },
  {
   "cell_type": "code",
   "execution_count": 114,
   "metadata": {},
   "outputs": [],
   "source": [
    "xvec = xvec/ghz"
   ]
  },
  {
   "cell_type": "code",
   "execution_count": 115,
   "metadata": {},
   "outputs": [],
   "source": [
    "mag = np.abs(arr[:, 0, :] + 1j*arr[:, 1, :])"
   ]
  },
  {
   "cell_type": "code",
   "execution_count": 181,
   "metadata": {},
   "outputs": [
    {
     "data": {
      "image/png": "[encoded data removed]",
      "text/plain": [
       "<Figure size 864x144 with 2 Axes>"
      ]
     },
     "metadata": {
      "needs_background": "light"
     },
     "output_type": "display_data"
    }
   ],
   "source": [
    "plt.figure(figsize=(12, 2))\n",
    "\n",
    "rotated_img = ndimage.rotate(mag, 90)\n",
    "pad_fraction = 0.5\n",
    "\n",
    "im = plt.imshow(rotated_img, aspect='180')\n",
    "plt.colorbar(im, pad = 0.01, fraction=pad_fraction)\n",
    "plt.xticks([1000, 2000, 3000, 4000])\n",
    "plt.gca().set_xticklabels([\"{:.3f}\".format(k) for k in [xvec[1000], xvec[2000], xvec[3000], xvec[4000]]])\n",
    "plt.gca().set_yticks([0, 5, 10, 15, 20])\n",
    "plt.gca().set_yticklabels([0, -5, -10, -15, -20])\n",
    "plt.xlabel(\"Frequency (GHz)\")\n",
    "plt.ylabel(\"Power (arbitrary units)\")\n",
    "plt.savefig(\"plots/fig2-power.pdf\", bbox_inches=\"tight\")"
   ]
  },
  {
   "cell_type": "markdown",
   "metadata": {},
   "source": [
    "# RB fits"
   ]
  },
  {
   "cell_type": "code",
   "execution_count": 143,
   "metadata": {},
   "outputs": [
    {
     "name": "stdout",
     "output_type": "stream",
     "text": [
      "Keys: <KeysViewHDF5 ['Channels', 'Data', 'Instrument config', 'Instruments', 'Log list', 'Settings', 'Step config', 'Step list', 'Tags', 'Views']>\n",
      "[(b'logm', b''), (b'Pulses - Randomize', b''), (b'Pulses - Number of Cliffords', b''), (b'2QB Reduced Discrimination Q0Q1 - Population Qb2 0', b''), (b'2QB Reduced Discrimination Q0Q1 - Population Qb2 1', b'')]\n"
     ]
    }
   ],
   "source": [
    "filename = \"/Users/shahnawaz/Dropbox/phd/courses/Advanced measurement lab/QT/Group9/11_RandomizedBenchmarking.hdf5\"\n",
    "\n",
    "with h5py.File(filename, \"r\") as f:\n",
    "    # List all groups\n",
    "    print(\"Keys: %s\" % f.keys())\n",
    "\n",
    "    # Get the data\n",
    "    raw_data = {}\n",
    "    for key in f.keys():\n",
    "        raw_data[key] = list(f[key])\n",
    "\n",
    "    print(list(f[\"Data\"][\"Channel names\"]))\n",
    "    arr = np.array(f[\"Data\"][\"Data\"])\n",
    "    # arr = np.array(f[\"Traces\"]['VNA - S21'])\n",
    "    # arr2 = np.array(f[\"Traces\"]['VNA - S21_t0dt'])\n",
    "\n",
    "\n"
   ]
  },
  {
   "cell_type": "code",
   "execution_count": 148,
   "metadata": {},
   "outputs": [],
   "source": [
    "num_cliff = arr[:, 2, :]\n",
    "populations = arr[:, 3, :]"
   ]
  },
  {
   "cell_type": "code",
   "execution_count": 174,
   "metadata": {},
   "outputs": [
    {
     "data": {
      "image/png": "[encoded data removed]",
      "text/plain": [
       "<Figure size 245.081x151.468 with 1 Axes>"
      ]
     },
     "metadata": {
      "needs_background": "light"
     },
     "output_type": "display_data"
    }
   ],
   "source": [
    "def func(m, A, p, B):\n",
    "    return A*p**m + B\n",
    "\n",
    "\n",
    "xdata, ydata = np.mean(num_cliff, axis=1), np.mean(populations, axis=1)\n",
    "popt, pcov = curve_fit(func, xdata, ydata)\n",
    "\n",
    "\n",
    "std = np.std(populations, axis=1)\n",
    "\n",
    "plt.plot(xdata, ydata, \"o\")\n",
    "plt.plot(xdata, func(xdata, *popt), \"--\", c=\"k\", label=r\"A $p^m$ + B\")\n",
    "\n",
    "plt.gca().fill_between(xdata, ydata - std,\n",
    "               ydata + std, alpha=0.1,\n",
    "                 color=\"blue\")\n",
    "\n",
    "plt.xlabel(\"Num cliffords (m)\")\n",
    "plt.ylabel(\"Population Qb2 0\")\n",
    "plt.legend()\n",
    "plt.savefig(\"plots/figrb.pdf\", bbox_inches=\"tight\")"
   ]
  },
  {
   "cell_type": "code",
   "execution_count": 176,
   "metadata": {},
   "outputs": [],
   "source": [
    "p = popt[1]"
   ]
  },
  {
   "cell_type": "code",
   "execution_count": 179,
   "metadata": {},
   "outputs": [],
   "source": [
    "r = (1 - 1/2.)*(1 - p)"
   ]
  },
  {
   "cell_type": "code",
   "execution_count": 180,
   "metadata": {},
   "outputs": [
    {
     "data": {
      "text/plain": [
       "0.0005835861531604832"
      ]
     },
     "execution_count": 180,
     "metadata": {},
     "output_type": "execute_result"
    }
   ],
   "source": [
    "r/1.875"
   ]
  },
  {
   "cell_type": "code",
   "execution_count": 182,
   "metadata": {},
   "outputs": [
    {
     "data": {
      "text/plain": [
       "array([0.45695597, 0.99781155, 0.51749961])"
      ]
     },
     "execution_count": 182,
     "metadata": {},
     "output_type": "execute_result"
    }
   ],
   "source": [
    "popt"
   ]
  },
  {
   "cell_type": "markdown",
   "metadata": {},
   "source": [
    "# Ramsey"
   ]
  },
  {
   "cell_type": "code",
   "execution_count": 187,
   "metadata": {},
   "outputs": [
    {
     "name": "stdout",
     "output_type": "stream",
     "text": [
      "Keys: <KeysViewHDF5 ['Channels', 'Data', 'Instrument config', 'Instruments', 'Log list', 'Settings', 'Step config', 'Step list', 'Tags', 'Views']>\n"
     ]
    },
    {
     "ename": "AttributeError",
     "evalue": "'Dataset' object has no attribute 'keys'",
     "output_type": "error",
     "traceback": [
      "\u001b[0;31m---------------------------------------------------------------------------\u001b[0m",
      "\u001b[0;31mAttributeError\u001b[0m                            Traceback (most recent call last)",
      "\u001b[0;32m<ipython-input-187-6bcdae3a5954>\u001b[0m in \u001b[0;36m<module>\u001b[0;34m\u001b[0m\n\u001b[1;32m      4\u001b[0m \u001b[0;32mwith\u001b[0m \u001b[0mh5py\u001b[0m\u001b[0;34m.\u001b[0m\u001b[0mFile\u001b[0m\u001b[0;34m(\u001b[0m\u001b[0mfilename\u001b[0m\u001b[0;34m,\u001b[0m \u001b[0;34m\"r\"\u001b[0m\u001b[0;34m)\u001b[0m \u001b[0;32mas\u001b[0m \u001b[0mf\u001b[0m\u001b[0;34m:\u001b[0m\u001b[0;34m\u001b[0m\u001b[0;34m\u001b[0m\u001b[0m\n\u001b[1;32m      5\u001b[0m     \u001b[0mprint\u001b[0m\u001b[0;34m(\u001b[0m\u001b[0;34m\"Keys: %s\"\u001b[0m \u001b[0;34m%\u001b[0m \u001b[0mf\u001b[0m\u001b[0;34m.\u001b[0m\u001b[0mkeys\u001b[0m\u001b[0;34m(\u001b[0m\u001b[0;34m)\u001b[0m\u001b[0;34m)\u001b[0m\u001b[0;34m\u001b[0m\u001b[0;34m\u001b[0m\u001b[0m\n\u001b[0;32m----> 6\u001b[0;31m     \u001b[0mprint\u001b[0m\u001b[0;34m(\u001b[0m\u001b[0mf\u001b[0m\u001b[0;34m[\u001b[0m\u001b[0;34m\"Channels\"\u001b[0m\u001b[0;34m]\u001b[0m\u001b[0;34m.\u001b[0m\u001b[0mkeys\u001b[0m\u001b[0;34m(\u001b[0m\u001b[0;34m)\u001b[0m\u001b[0;34m)\u001b[0m\u001b[0;34m\u001b[0m\u001b[0;34m\u001b[0m\u001b[0m\n\u001b[0m\u001b[1;32m      7\u001b[0m     \u001b[0mprint\u001b[0m\u001b[0;34m(\u001b[0m\u001b[0mf\u001b[0m\u001b[0;34m[\u001b[0m\u001b[0;34m\"Data\"\u001b[0m\u001b[0;34m]\u001b[0m\u001b[0;34m.\u001b[0m\u001b[0mkeys\u001b[0m\u001b[0;34m(\u001b[0m\u001b[0;34m)\u001b[0m\u001b[0;34m)\u001b[0m\u001b[0;34m\u001b[0m\u001b[0;34m\u001b[0m\u001b[0m\n\u001b[1;32m      8\u001b[0m     \u001b[0marr\u001b[0m \u001b[0;34m=\u001b[0m \u001b[0mnp\u001b[0m\u001b[0;34m.\u001b[0m\u001b[0marray\u001b[0m\u001b[0;34m(\u001b[0m\u001b[0mf\u001b[0m\u001b[0;34m[\u001b[0m\u001b[0;34m\"Data\"\u001b[0m\u001b[0;34m]\u001b[0m\u001b[0;34m[\u001b[0m\u001b[0;34m'Channel names'\u001b[0m\u001b[0;34m]\u001b[0m\u001b[0;34m)\u001b[0m\u001b[0;34m\u001b[0m\u001b[0;34m\u001b[0m\u001b[0m\n",
      "\u001b[0;31mAttributeError\u001b[0m: 'Dataset' object has no attribute 'keys'"
     ]
    }
   ],
   "source": [
    "filename = \"/Users/shahnawaz/Dropbox/phd/courses/Advanced measurement lab/QT/Group9/7_ramsey_cal.hdf5\"\n",
    "\n",
    "\n",
    "with h5py.File(filename, \"r\") as f:\n",
    "    print(\"Keys: %s\" % f.keys())\n",
    "    print(list(f[\"Channels\"]))\n",
    "    print(f[\"Data\"].keys())\n",
    "    arr = np.array(f[\"Data\"]['Channel names'])"
   ]
  },
  {
   "cell_type": "code",
   "execution_count": null,
   "metadata": {},
   "outputs": [],
   "source": []
  }
 ],
 "metadata": {
  "interpreter": {
   "hash": "383c5c00937595a71b70c28deded6c82313774eab0af53a7bbcdcf71bc0a4cad"
  },
  "kernelspec": {
   "display_name": "Python 3.7.6 ('base')",
   "language": "python",
   "name": "python3"
  },
  "language_info": {
   "codemirror_mode": {
    "name": "ipython",
    "version": 3
   },
   "file_extension": ".py",
   "mimetype": "text/x-python",
   "name": "python",
   "nbconvert_exporter": "python",
   "pygments_lexer": "ipython3",
   "version": "3.7.6"
  },
  "orig_nbformat": 4
 },
 "nbformat": 4,
 "nbformat_minor": 2
}
